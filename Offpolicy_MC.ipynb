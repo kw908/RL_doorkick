{
 "cells": [
  {
   "cell_type": "code",
   "execution_count": 13,
   "metadata": {},
   "outputs": [
    {
     "name": "stdout",
     "output_type": "stream",
     "text": [
      "0\n",
      "0\n",
      "0\n",
      "1\n",
      "0\n",
      "0\n",
      "1\n",
      "0\n",
      "1\n",
      "1\n",
      "0\n",
      "1\n",
      "1\n",
      "0\n",
      "0\n"
     ]
    }
   ],
   "source": [
    "%reload_ext autoreload\n",
    "%autoreload 2\n",
    "\n",
    "import gymnasium as gym\n",
    "import numpy as np\n",
    "import itertools as iter\n",
    "import random\n",
    "from IPython import display as ipythondisplay\n",
    "from PIL import Image\n",
    "\n",
    "env = gym.make('CartPole-v1', render_mode='rgb_array')\n",
    "# gym space includes all the states\n",
    "# screen = env.render()\n",
    "\n",
    "\n",
    "Q = 0\n",
    "C = 0\n",
    "\n",
    "G = 0\n",
    "iteration = 0\n",
    "episodes = 500000\n",
    "GAMMA = 1.0\n",
    "V = 0 #state-value function\n",
    "T = 0\n",
    " \n",
    "# behavior policy: 50% chance for each direction under all conditions\n",
    "\n",
    "# run episodes\n",
    "env.reset()\n",
    "screen = env.render()\n",
    "images = [Image.fromarray(screen)]\n",
    "while True:\n",
    "    # behavior policy\n",
    "    a = random.randint(0,1)\n",
    "    next_state, reward, done, _,_ = env.step(a) \n",
    "    print(a)\n",
    "    iteration+=1\n",
    "    screen = env.render()\n",
    "    images.append(Image.fromarray(screen))\n",
    "    if (done):\n",
    "        break\n",
    "\n",
    "# Save GIF image\n",
    "image_file = 'cartpole-v1.gif'\n",
    "# loop=0: loop forever, duration=1: play each frame for 1ms\n",
    "images[0].save(\n",
    "    image_file, save_all=True, append_images=images[1:], loop=0, duration=1)\n",
    "\n",
    "# # The game is finished, so close the window\n",
    "env.close()\n",
    "\n",
    "\n"
   ]
  }
 ],
 "metadata": {
  "kernelspec": {
   "display_name": "Python 3",
   "language": "python",
   "name": "python3"
  },
  "language_info": {
   "codemirror_mode": {
    "name": "ipython",
    "version": 3
   },
   "file_extension": ".py",
   "mimetype": "text/x-python",
   "name": "python",
   "nbconvert_exporter": "python",
   "pygments_lexer": "ipython3",
   "version": "3.10.8"
  }
 },
 "nbformat": 4,
 "nbformat_minor": 2
}
