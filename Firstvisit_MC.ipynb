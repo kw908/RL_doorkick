{
 "cells": [
  {
   "cell_type": "code",
   "execution_count": 4,
   "metadata": {},
   "outputs": [
    {
     "name": "stdout",
     "output_type": "stream",
     "text": [
      "[1, 1, 1, 1, 2, 2, 2, 2, 3, 3, 3, 3, 4, 4, 4, 4, 5, 5, 5, 5, 6, 6, 6, 6, 7, 7, 7, 7, 8, 8, 8, 8, 9, 9, 9, 9, 10, 10, 10, 10, 10, 10, 10, 10, 10, 10, 10, 10, 10, 10, 10, 10]\n"
     ]
    }
   ],
   "source": [
    "%reload_ext autoreload\n",
    "%autoreload 2\n",
    "\n",
    "from Environments import blackjack_v0 as bj\n",
    "\n",
    "env = bj.environment()\n",
    "G = 0\n",
    "episodes = 10000\n",
    "t = episodes\n",
    "GAMMA = 1.0\n",
    "V = 0 #state-value function\n",
    "R = [] #returns\n",
    "\n",
    "while True:\n",
    "    term_reward = env.game()\n",
    "    env.rewards[-1] = term_reward\n",
    "\n",
    "    env.reset()\n",
    "\n",
    "    t-=1\n",
    "    if t==0:\n",
    "       break\n",
    "\n",
    "env = bj.environment()\n",
    "print(env.deck)\n",
    "\n"
   ]
  }
 ],
 "metadata": {
  "kernelspec": {
   "display_name": "Python 3",
   "language": "python",
   "name": "python3"
  },
  "language_info": {
   "codemirror_mode": {
    "name": "ipython",
    "version": 3
   },
   "file_extension": ".py",
   "mimetype": "text/x-python",
   "name": "python",
   "nbconvert_exporter": "python",
   "pygments_lexer": "ipython3",
   "version": "3.10.8"
  }
 },
 "nbformat": 4,
 "nbformat_minor": 2
}
