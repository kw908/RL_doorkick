{
 "cells": [
  {
   "cell_type": "code",
   "execution_count": 4,
   "metadata": {},
   "outputs": [
    {
     "name": "stdout",
     "output_type": "stream",
     "text": [
      "[1, 1, 1, 1, 2, 2, 2, 2, 3, 3, 3, 3, 4, 4, 4, 4, 5, 5, 5, 5, 6, 6, 6, 6, 7, 7, 7, 7, 8, 8, 8, 8, 9, 9, 9, 9, 10, 10, 10, 10, 10, 10, 10, 10, 10, 10, 10, 10, 10, 10, 10, 10]\n"
     ]
    }
   ],
   "source": [
    "%reload_ext autoreload\n",
    "%autoreload 2\n",
    "\n",
    "from Environments import blackjack_v0 as bj\n",
    "import numpy as np\n",
    "\n",
    "env = bj.environment()\n",
    "G = 0\n",
    "iteration = 0\n",
    "episodes = 10000\n",
    "GAMMA = 1.0\n",
    "V = 0 #state-value function\n",
    "T = 0\n",
    "\n",
    "while True:\n",
    "    term_reward = env.game()\n",
    "    T = len(env.rewards_in_episode)\n",
    "    G = 0\n",
    "    \n",
    "    for s in env.states_in_episode:\n",
    "        for t in range(T-2,-1,-1): #T-2,...,0,inclusive\n",
    "            if env.states_in_episode[t] != s:\n",
    "                G = GAMMA*G + env.rewards_in_episode[t+1]\n",
    "        env.states[s][1].append(G)\n",
    "        env.states[s][0] = np.mean(env.states[s][1])\n",
    "\n",
    "    env.reset()\n",
    "    iteration+=1\n",
    "\n",
    "    if iteration == episodes:\n",
    "        break\n",
    "\n",
    "    \n",
    "\n",
    "env = bj.environment()\n",
    "print(env.deck)\n",
    "\n"
   ]
  }
 ],
 "metadata": {
  "kernelspec": {
   "display_name": "Python 3",
   "language": "python",
   "name": "python3"
  },
  "language_info": {
   "codemirror_mode": {
    "name": "ipython",
    "version": 3
   },
   "file_extension": ".py",
   "mimetype": "text/x-python",
   "name": "python",
   "nbconvert_exporter": "python",
   "pygments_lexer": "ipython3",
   "version": "3.10.8"
  }
 },
 "nbformat": 4,
 "nbformat_minor": 2
}
