{
 "cells": [
  {
   "cell_type": "code",
   "execution_count": 11,
   "metadata": {},
   "outputs": [
    {
     "name": "stdout",
     "output_type": "stream",
     "text": [
      "[(12, 1, True), (12, 1, False), (12, 2, True), (12, 2, False), (12, 3, True), (12, 3, False), (12, 4, True), (12, 4, False), (12, 5, True), (12, 5, False), (12, 6, True), (12, 6, False), (12, 7, True), (12, 7, False), (12, 8, True), (12, 8, False), (12, 9, True), (12, 9, False), (12, 10, True), (12, 10, False), (13, 1, True), (13, 1, False), (13, 2, True), (13, 2, False), (13, 3, True), (13, 3, False), (13, 4, True), (13, 4, False), (13, 5, True), (13, 5, False), (13, 6, True), (13, 6, False), (13, 7, True), (13, 7, False), (13, 8, True), (13, 8, False), (13, 9, True), (13, 9, False), (13, 10, True), (13, 10, False), (14, 1, True), (14, 1, False), (14, 2, True), (14, 2, False), (14, 3, True), (14, 3, False), (14, 4, True), (14, 4, False), (14, 5, True), (14, 5, False), (14, 6, True), (14, 6, False), (14, 7, True), (14, 7, False), (14, 8, True), (14, 8, False), (14, 9, True), (14, 9, False), (14, 10, True), (14, 10, False), (15, 1, True), (15, 1, False), (15, 2, True), (15, 2, False), (15, 3, True), (15, 3, False), (15, 4, True), (15, 4, False), (15, 5, True), (15, 5, False), (15, 6, True), (15, 6, False), (15, 7, True), (15, 7, False), (15, 8, True), (15, 8, False), (15, 9, True), (15, 9, False), (15, 10, True), (15, 10, False), (16, 1, True), (16, 1, False), (16, 2, True), (16, 2, False), (16, 3, True), (16, 3, False), (16, 4, True), (16, 4, False), (16, 5, True), (16, 5, False), (16, 6, True), (16, 6, False), (16, 7, True), (16, 7, False), (16, 8, True), (16, 8, False), (16, 9, True), (16, 9, False), (16, 10, True), (16, 10, False), (17, 1, True), (17, 1, False), (17, 2, True), (17, 2, False), (17, 3, True), (17, 3, False), (17, 4, True), (17, 4, False), (17, 5, True), (17, 5, False), (17, 6, True), (17, 6, False), (17, 7, True), (17, 7, False), (17, 8, True), (17, 8, False), (17, 9, True), (17, 9, False), (17, 10, True), (17, 10, False), (18, 1, True), (18, 1, False), (18, 2, True), (18, 2, False), (18, 3, True), (18, 3, False), (18, 4, True), (18, 4, False), (18, 5, True), (18, 5, False), (18, 6, True), (18, 6, False), (18, 7, True), (18, 7, False), (18, 8, True), (18, 8, False), (18, 9, True), (18, 9, False), (18, 10, True), (18, 10, False), (19, 1, True), (19, 1, False), (19, 2, True), (19, 2, False), (19, 3, True), (19, 3, False), (19, 4, True), (19, 4, False), (19, 5, True), (19, 5, False), (19, 6, True), (19, 6, False), (19, 7, True), (19, 7, False), (19, 8, True), (19, 8, False), (19, 9, True), (19, 9, False), (19, 10, True), (19, 10, False), (20, 1, True), (20, 1, False), (20, 2, True), (20, 2, False), (20, 3, True), (20, 3, False), (20, 4, True), (20, 4, False), (20, 5, True), (20, 5, False), (20, 6, True), (20, 6, False), (20, 7, True), (20, 7, False), (20, 8, True), (20, 8, False), (20, 9, True), (20, 9, False), (20, 10, True), (20, 10, False), (21, 1, True), (21, 1, False), (21, 2, True), (21, 2, False), (21, 3, True), (21, 3, False), (21, 4, True), (21, 4, False), (21, 5, True), (21, 5, False), (21, 6, True), (21, 6, False), (21, 7, True), (21, 7, False), (21, 8, True), (21, 8, False), (21, 9, True), (21, 9, False), (21, 10, True), (21, 10, False)]\n",
      "[(12, 1, True), (12, 1, False), (12, 2, True), (12, 2, False), (12, 3, True), (12, 3, False), (12, 4, True), (12, 4, False), (12, 5, True), (12, 5, False), (12, 6, True), (12, 6, False), (12, 7, True), (12, 7, False), (12, 8, True), (12, 8, False), (12, 9, True), (12, 9, False), (12, 10, True), (12, 10, False), (13, 1, True), (13, 1, False), (13, 2, True), (13, 2, False), (13, 3, True), (13, 3, False), (13, 4, True), (13, 4, False), (13, 5, True), (13, 5, False), (13, 6, True), (13, 6, False), (13, 7, True), (13, 7, False), (13, 8, True), (13, 8, False), (13, 9, True), (13, 9, False), (13, 10, True), (13, 10, False), (14, 1, True), (14, 1, False), (14, 2, True), (14, 2, False), (14, 3, True), (14, 3, False), (14, 4, True), (14, 4, False), (14, 5, True), (14, 5, False), (14, 6, True), (14, 6, False), (14, 7, True), (14, 7, False), (14, 8, True), (14, 8, False), (14, 9, True), (14, 9, False), (14, 10, True), (14, 10, False), (15, 1, True), (15, 1, False), (15, 2, True), (15, 2, False), (15, 3, True), (15, 3, False), (15, 4, True), (15, 4, False), (15, 5, True), (15, 5, False), (15, 6, True), (15, 6, False), (15, 7, True), (15, 7, False), (15, 8, True), (15, 8, False), (15, 9, True), (15, 9, False), (15, 10, True), (15, 10, False), (16, 1, True), (16, 1, False), (16, 2, True), (16, 2, False), (16, 3, True), (16, 3, False), (16, 4, True), (16, 4, False), (16, 5, True), (16, 5, False), (16, 6, True), (16, 6, False), (16, 7, True), (16, 7, False), (16, 8, True), (16, 8, False), (16, 9, True), (16, 9, False), (16, 10, True), (16, 10, False), (17, 1, True), (17, 1, False), (17, 2, True), (17, 2, False), (17, 3, True), (17, 3, False), (17, 4, True), (17, 4, False), (17, 5, True), (17, 5, False), (17, 6, True), (17, 6, False), (17, 7, True), (17, 7, False), (17, 8, True), (17, 8, False), (17, 9, True), (17, 9, False), (17, 10, True), (17, 10, False), (18, 1, True), (18, 1, False), (18, 2, True), (18, 2, False), (18, 3, True), (18, 3, False), (18, 4, True), (18, 4, False), (18, 5, True), (18, 5, False), (18, 6, True), (18, 6, False), (18, 7, True), (18, 7, False), (18, 8, True), (18, 8, False), (18, 9, True), (18, 9, False), (18, 10, True), (18, 10, False), (19, 1, True), (19, 1, False), (19, 2, True), (19, 2, False), (19, 3, True), (19, 3, False), (19, 4, True), (19, 4, False), (19, 5, True), (19, 5, False), (19, 6, True), (19, 6, False), (19, 7, True), (19, 7, False), (19, 8, True), (19, 8, False), (19, 9, True), (19, 9, False), (19, 10, True), (19, 10, False), (20, 1, True), (20, 1, False), (20, 2, True), (20, 2, False), (20, 3, True), (20, 3, False), (20, 4, True), (20, 4, False), (20, 5, True), (20, 5, False), (20, 6, True), (20, 6, False), (20, 7, True), (20, 7, False), (20, 8, True), (20, 8, False), (20, 9, True), (20, 9, False), (20, 10, True), (20, 10, False), (21, 1, True), (21, 1, False), (21, 2, True), (21, 2, False), (21, 3, True), (21, 3, False), (21, 4, True), (21, 4, False), (21, 5, True), (21, 5, False), (21, 6, True), (21, 6, False), (21, 7, True), (21, 7, False), (21, 8, True), (21, 8, False), (21, 9, True), (21, 9, False), (21, 10, True), (21, 10, False)]\n",
      "[1, 1, 1, 1, 2, 2, 2, 2, 3, 3, 3, 3, 4, 4, 4, 4, 5, 5, 5, 5, 6, 6, 6, 6, 7, 7, 7, 7, 8, 8, 8, 8, 9, 9, 9, 9, 10, 10, 10, 10, 10, 10, 10, 10, 10, 10, 10, 10, 10, 10, 10, 10]\n"
     ]
    }
   ],
   "source": [
    "%reload_ext autoreload\n",
    "%autoreload 2\n",
    "\n",
    "from Environments import blackjack_v0 as bj\n",
    "import numpy as np\n",
    "\n",
    "env = bj.environment()\n",
    "G = 0\n",
    "iteration = 0\n",
    "episodes = 10000\n",
    "GAMMA = 1.0\n",
    "V = 0 #state-value function\n",
    "T = 0\n",
    "\n",
    "while True:\n",
    "    term_reward = env.game()\n",
    "    T = len(env.rewards_in_episode)\n",
    "    G = 0\n",
    "    \n",
    "    for s in env.states_in_episode:\n",
    "        for t in range(T-2,-1,-1): #T-2,...,0,inclusive\n",
    "            if env.states_in_episode[t] != s:\n",
    "                G = GAMMA*G + env.rewards_in_episode[t+1]\n",
    "        env.states[s][1].append(G)\n",
    "        env.states[s][0] = np.mean(env.states[s][1])\n",
    "\n",
    "    env.reset()\n",
    "    iteration+=1\n",
    "\n",
    "    if iteration == episodes:\n",
    "        break\n",
    "\n",
    "    \n",
    "\n",
    "env = bj.environment()\n",
    "print(env.deck)\n",
    "\n"
   ]
  }
 ],
 "metadata": {
  "kernelspec": {
   "display_name": "Python 3",
   "language": "python",
   "name": "python3"
  },
  "language_info": {
   "codemirror_mode": {
    "name": "ipython",
    "version": 3
   },
   "file_extension": ".py",
   "mimetype": "text/x-python",
   "name": "python",
   "nbconvert_exporter": "python",
   "pygments_lexer": "ipython3",
   "version": "3.10.8"
  }
 },
 "nbformat": 4,
 "nbformat_minor": 2
}
