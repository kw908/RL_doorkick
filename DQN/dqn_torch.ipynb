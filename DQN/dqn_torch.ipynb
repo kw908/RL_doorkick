{
 "cells": [
  {
   "cell_type": "code",
   "execution_count": null,
   "metadata": {},
   "outputs": [],
   "source": [
    "%reload_ext autoreload\n",
    "%autoreload 2\n",
    "%matplotlib widget\n",
    "\n",
    "import gymnasium as gym\n",
    "from dqn_torch import Agent\n",
    "import numpy as np\n",
    "\n",
    "\n",
    "if __name__ == '__main__':\n",
    "    env = gym.make('LunarLander-v2')\n",
    "    print(env.action_space)\n",
    "    agent = Agent(gamma=0.99, epsilon=1.0, batch_size=100, n_actions=4,\n",
    "                  eps_end=0.01, input_dims=[8], lr=0.003) # sample 64 experiences as the minibatch from the original batch\n",
    "    scores, eps_history = [],[]\n",
    "    n_games = 500\n",
    "    \n",
    "    avg_score_record = []\n",
    "\n",
    "    for i in range(n_games):\n",
    "        score = 0\n",
    "        done = False\n",
    "        observation = env.reset()[0]\n",
    "        while not done:\n",
    "            action = agent.choose_action(observation)\n",
    "            observation_, reward, done, info, _= env.step(action)\n",
    "            score += reward\n",
    "            agent.store_transition(observation, action, reward,\n",
    "                                   observation_, done)\n",
    "            agent.learn()\n",
    "            observation = observation_\n",
    "        scores.append(score)\n",
    "        eps_history.append(agent.epsilon)\n",
    "\n",
    "        avg_score = np.mean(scores[-100:])\n",
    "        avg_score_record.append(avg_score)\n",
    "\n",
    "        print('episode ', i , 'score %.2f' % score,\n",
    "              'average score %.2f' % avg_score,\n",
    "              'epsilon %.2f' % agent.epsilon)\n",
    "    \n",
    "    \n",
    "    "
   ]
  },
  {
   "cell_type": "code",
   "execution_count": null,
   "metadata": {},
   "outputs": [],
   "source": [
    "import matplotlib.pyplot as plt\n",
    "\n",
    "plt.figure()\n",
    "print(len(avg_score_record))\n",
    "plt.scatter(range(1,len(avg_score_record)+1), avg_score_record)\n",
    "\n",
    "plt.show()"
   ]
  }
 ],
 "metadata": {
  "kernelspec": {
   "display_name": "Python 3",
   "language": "python",
   "name": "python3"
  },
  "language_info": {
   "codemirror_mode": {
    "name": "ipython",
    "version": 3
   },
   "file_extension": ".py",
   "mimetype": "text/x-python",
   "name": "python",
   "nbconvert_exporter": "python",
   "pygments_lexer": "ipython3",
   "version": "3.10.8"
  }
 },
 "nbformat": 4,
 "nbformat_minor": 2
}
