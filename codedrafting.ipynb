{
 "cells": [
  {
   "cell_type": "code",
   "execution_count": null,
   "metadata": {},
   "outputs": [],
   "source": [
    "# from PIL import Image, ImageDraw, ImageFont\n",
    "\n",
    "up_arrow = \"\\u2191\"\n",
    "down_arrow = \"\\u2193\"\n",
    "right_arrow = \"\\u2192\"\n",
    "left_arrow = \"\\u2190\"\n",
    "\n",
    "print(f\"Arrows: {up_arrow} \\n {down_arrow} {right_arrow} {left_arrow}\")\n"
   ]
  },
  {
   "cell_type": "code",
   "execution_count": 3,
   "metadata": {},
   "outputs": [
    {
     "name": "stdout",
     "output_type": "stream",
     "text": [
      "5\n",
      "4\n",
      "3\n",
      "2\n",
      "1\n",
      "0\n"
     ]
    }
   ],
   "source": [
    "a = {}\n",
    "a.update({(0,1):[]})"
   ]
  },
  {
   "cell_type": "code",
   "execution_count": null,
   "metadata": {},
   "outputs": [],
   "source": [
    "import matplotlib.pyplot as plt\n",
    "\n",
    "from mpl_toolkits.mplot3d import axes3d\n",
    "\n",
    "ax = plt.figure().add_subplot(projection='3d')\n",
    "X, Y, Z = axes3d.get_test_data(0.05)\n",
    "\n",
    "# Plot the 3D surface\n",
    "ax.plot_surface(X, Y, Z, edgecolor='royalblue', lw=0.5, rstride=8, cstride=8,\n",
    "                alpha=0.3)\n",
    "\n",
    "# Plot projections of the contours for each dimension.  By choosing offsets\n",
    "# that match the appropriate axes limits, the projected contours will sit on\n",
    "# the 'walls' of the graph.\n",
    "# ax.contour(X, Y, Z, zdir='z', offset=-100, cmap='coolwarm')\n",
    "# ax.contour(X, Y, Z, zdir='x', offset=-40, cmap='coolwarm')\n",
    "# ax.contour(X, Y, Z, zdir='y', offset=40, cmap='coolwarm')\n",
    "\n",
    "ax.set(xlim=(-40, 40), ylim=(-40, 40), zlim=(-100, 100),\n",
    "       xlabel='X', ylabel='Y', zlabel='Z')\n",
    "\n",
    "plt.show()"
   ]
  },
  {
   "cell_type": "code",
   "execution_count": null,
   "metadata": {},
   "outputs": [],
   "source": [
    "import itertools\n",
    "\n",
    "# Define the three lists\n",
    "list1 = [1, 2, 3]\n",
    "list2 = [4, 5, 6]\n",
    "list3 = [7, 8, 9]\n",
    "\n",
    "# Generate all permutations using itertools.product\n",
    "permutations = list(itertools.product(list1, list2, list3))\n",
    "\n",
    "# Print the permutations\n",
    "print(itertools.permutations(list1,list2,list3))"
   ]
  },
  {
   "cell_type": "code",
   "execution_count": null,
   "metadata": {},
   "outputs": [],
   "source": [
    "from PIL import Image, ImageDraw\n",
    "\n",
    "# Create a blank image with a white background\n",
    "width, height = 200, 200  # Set the width and height of the image\n",
    "cell_size = width // 4  # Calculate cell size for 4x4 grid\n",
    "image = Image.new('RGB', (width, height), 'white')\n",
    "draw = ImageDraw.Draw(image)\n",
    "\n",
    "# List of strings to print in the grid (assuming the list has at least 16 strings)\n",
    "strings = [\"Hello\", \"World\", \"Python\", \"Grid\", \"Pillow\", \"Image\", \"Draw\", \"Text\",\n",
    "           \"List\", \"String\", \"Side\", \"By\", \"Side\", \"In\", \"Grid\", \"Example\"]\n",
    "\n",
    "# Draw a 4x4 grid with strings from the list in each cell (side by side)\n",
    "for i in range(4):\n",
    "    for j in range(4):\n",
    "        cell_x, cell_y = i * cell_size, j * cell_size\n",
    "        index = i * 4 + j  # Calculate index for accessing strings from the list\n",
    "        if index < len(strings):\n",
    "            text = strings[index]  # Get string from the list\n",
    "        else:\n",
    "            text = \"\"  # Empty string if the list does not have enough elements\n",
    "        text_width, text_height = draw.textsize(text)  # Calculate text size\n",
    "        text_x = cell_x + (cell_size - text_width) // 2\n",
    "        text_y = cell_y + (cell_size - text_height) // 2\n",
    "        draw.text((text_x, text_y), text, fill='black')  # Draw text in the cell\n",
    "\n",
    "# Save the image\n",
    "image.show()\n"
   ]
  }
 ],
 "metadata": {
  "kernelspec": {
   "display_name": "Python 3",
   "language": "python",
   "name": "python3"
  },
  "language_info": {
   "codemirror_mode": {
    "name": "ipython",
    "version": 3
   },
   "file_extension": ".py",
   "mimetype": "text/x-python",
   "name": "python",
   "nbconvert_exporter": "python",
   "pygments_lexer": "ipython3",
   "version": "3.10.8"
  }
 },
 "nbformat": 4,
 "nbformat_minor": 2
}
