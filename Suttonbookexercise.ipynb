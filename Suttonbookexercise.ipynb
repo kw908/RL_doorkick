{
  "cells": [
    {
      "cell_type": "markdown",
      "metadata": {
        "colab_type": "text",
        "id": "view-in-github"
      },
      "source": [
        "<a href=\"https://colab.research.google.com/github/kw908/RL_doorkick/blob/main/Suttonbookexercise.ipynb\" target=\"_parent\"><img src=\"https://colab.research.google.com/assets/colab-badge.svg\" alt=\"Open In Colab\"/></a>"
      ]
    },
    {
      "cell_type": "markdown",
      "metadata": {},
      "source": [
        "Exercise 3.18 \\\\\n",
        "Relationship between $V^\\pi$ and $q^\\pi$:\n",
        "$$\n",
        "V^\\pi(s) = \\sum_{a \\in A} \\pi(a|s)q^\\pi(s,a)\n",
        "$$"
      ]
    },
    {
      "cell_type": "code",
      "execution_count": 1,
      "metadata": {
        "colab": {
          "base_uri": "https://localhost:8080/"
        },
        "id": "OkptOwWpip1C",
        "outputId": "2b0f0221-5ebe-450a-c7ae-7f2478982252"
      },
      "outputs": [
        {
          "name": "stdout",
          "output_type": "stream",
          "text": [
            "0.675\n"
          ]
        }
      ],
      "source": [
        "## Exercise 3.14\n",
        "\n",
        "import numpy as np\n",
        "\n",
        "neighbors = [(0,0.25,2.3),\n",
        "                   (0,0.25,0.4),\n",
        "                   (0,0.25,-0.4),\n",
        "                   (0,0.25,0.7)] # reward, probability, value(only accurate to one decimal place)\n",
        "policy = np.array([0.25,0.25,0.25,0.25])\n",
        "rewards = np.array([0,0,0,0])\n",
        "middle_value = 0.7\n",
        "gamma = 0.9\n",
        "v_pi_middle = 0\n",
        "state = [0,1]\n",
        "\n",
        "for pa in policy:\n",
        "    for v in neighbors:\n",
        "       v_pi_middle += pa * v[1] * (v[0] + gamma*v[2])\n",
        "\n",
        "print(v_pi_middle) #should evaluate to near 0.7\n"
      ]
    },
    {
      "cell_type": "code",
      "execution_count": 2,
      "metadata": {},
      "outputs": [
        {
          "ename": "TypeError",
          "evalue": "unhashable type: 'list'",
          "output_type": "error",
          "traceback": [
            "\u001b[1;31m---------------------------------------------------------------------------\u001b[0m",
            "\u001b[1;31mTypeError\u001b[0m                                 Traceback (most recent call last)",
            "\u001b[1;32mc:\\Graduate\\MASc\\RL\\RL_doorkick\\Suttonbookexercise.ipynb Cell 4\u001b[0m line \u001b[0;36m<cell line: 6>\u001b[1;34m()\u001b[0m\n\u001b[0;32m      <a href='vscode-notebook-cell:/c%3A/Graduate/MASc/RL/RL_doorkick/Suttonbookexercise.ipynb#W4sZmlsZQ%3D%3D?line=0'>1</a>\u001b[0m \u001b[39m## Example 4.1\u001b[39;00m\n\u001b[0;32m      <a href='vscode-notebook-cell:/c%3A/Graduate/MASc/RL/RL_doorkick/Suttonbookexercise.ipynb#W4sZmlsZQ%3D%3D?line=1'>2</a>\u001b[0m \n\u001b[0;32m      <a href='vscode-notebook-cell:/c%3A/Graduate/MASc/RL/RL_doorkick/Suttonbookexercise.ipynb#W4sZmlsZQ%3D%3D?line=2'>3</a>\u001b[0m \u001b[39m# evalucation on random policy\u001b[39;00m\n\u001b[0;32m      <a href='vscode-notebook-cell:/c%3A/Graduate/MASc/RL/RL_doorkick/Suttonbookexercise.ipynb#W4sZmlsZQ%3D%3D?line=3'>4</a>\u001b[0m \u001b[39mfrom\u001b[39;00m \u001b[39mEnvironments\u001b[39;00m \u001b[39mimport\u001b[39;00m gridworld_v0 \u001b[39mas\u001b[39;00m gw\n\u001b[1;32m----> <a href='vscode-notebook-cell:/c%3A/Graduate/MASc/RL/RL_doorkick/Suttonbookexercise.ipynb#W4sZmlsZQ%3D%3D?line=5'>6</a>\u001b[0m env \u001b[39m=\u001b[39m gw\u001b[39m.\u001b[39;49menvironment(sidelength\u001b[39m=\u001b[39;49m\u001b[39m4\u001b[39;49m) \n\u001b[0;32m      <a href='vscode-notebook-cell:/c%3A/Graduate/MASc/RL/RL_doorkick/Suttonbookexercise.ipynb#W4sZmlsZQ%3D%3D?line=6'>7</a>\u001b[0m \u001b[39mfor\u001b[39;00m s \u001b[39min\u001b[39;00m env\u001b[39m.\u001b[39mstates:\n\u001b[0;32m      <a href='vscode-notebook-cell:/c%3A/Graduate/MASc/RL/RL_doorkick/Suttonbookexercise.ipynb#W4sZmlsZQ%3D%3D?line=7'>8</a>\u001b[0m     \u001b[39mprint\u001b[39m(s)\n",
            "File \u001b[1;32mc:\\Graduate\\MASc\\RL\\RL_doorkick\\Environments\\gridworld_v0.py:16\u001b[0m, in \u001b[0;36menvironment.__init__\u001b[1;34m(self, sidelength)\u001b[0m\n\u001b[0;32m     14\u001b[0m \u001b[39mfor\u001b[39;00m i \u001b[39min\u001b[39;00m \u001b[39mrange\u001b[39m(\u001b[39mself\u001b[39m\u001b[39m.\u001b[39msidelength):\n\u001b[0;32m     15\u001b[0m    \u001b[39mfor\u001b[39;00m j \u001b[39min\u001b[39;00m \u001b[39mrange\u001b[39m(\u001b[39mself\u001b[39m\u001b[39m.\u001b[39msidelength):\n\u001b[1;32m---> 16\u001b[0m       \u001b[39mself\u001b[39m\u001b[39m.\u001b[39mstates\u001b[39m.\u001b[39mappend({[i,j]:\u001b[39m0\u001b[39m})\n\u001b[0;32m     18\u001b[0m \u001b[39mself\u001b[39m\u001b[39m.\u001b[39mterminal_states \u001b[39m=\u001b[39m [[\u001b[39m0\u001b[39m,\u001b[39m0\u001b[39m],[\u001b[39mself\u001b[39m\u001b[39m.\u001b[39ml,\u001b[39mself\u001b[39m\u001b[39m.\u001b[39ml]]\n",
            "\u001b[1;31mTypeError\u001b[0m: unhashable type: 'list'"
          ]
        }
      ],
      "source": [
        "## Example 4.1\n",
        "\n",
        "# evalucation on random policy\n",
        "from Environments import gridworld_v0 as gw\n",
        "\n",
        "env = gw.environment(sidelength=4) \n",
        "for s in env.states:\n",
        "    print(s)\n",
        "\n",
        "pi = {\"up\":[0.25,1.0], \"down\":[0.25,1.0], \"left\":[0.25,1.0], \"right\":[0.25,1.0]} #{action:[p(a), p(s',r|s,a)=1: (once the action is taken, it's 100% pr to get to one of the next states)]}\n",
        "THETA = 0.1 #stop condition\n",
        "GAMMA = 1.0 #non-discounted\n",
        "terminal = False\n",
        "episodes = 1 # number of episodes\n",
        "\n",
        "# delta = 0\n",
        "# V_s = 0\n",
        "# q_s = 0\n",
        "# v = 0\n",
        "\n",
        "       \n",
        "\n",
        "# # try evaluating first state\n",
        "# while(delta<THETA):\n",
        "#     v = V_s\n",
        "#     for a in pi.keys:\n",
        "#         terminal, next_state, r = gw.step(a)\n",
        "#         if not terminal:\n",
        "#           q_s += a.items[1] * (r + GAMMA*v[2])\n",
        "#         else:\n",
        "#           print(q_s)\n",
        "        \n",
        "       \n",
        "\n"
      ]
    }
  ],
  "metadata": {
    "colab": {
      "authorship_tag": "ABX9TyOiRQsR31ww1zeO93G2UFLA",
      "include_colab_link": true,
      "provenance": []
    },
    "kernelspec": {
      "display_name": "Python 3",
      "name": "python3"
    },
    "language_info": {
      "codemirror_mode": {
        "name": "ipython",
        "version": 3
      },
      "file_extension": ".py",
      "mimetype": "text/x-python",
      "name": "python",
      "nbconvert_exporter": "python",
      "pygments_lexer": "ipython3",
      "version": "3.10.8"
    }
  },
  "nbformat": 4,
  "nbformat_minor": 0
}
