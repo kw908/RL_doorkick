{
  "cells": [
    {
      "cell_type": "markdown",
      "metadata": {
        "colab_type": "text",
        "id": "view-in-github"
      },
      "source": [
        "<a href=\"https://colab.research.google.com/github/kw908/RL_doorkick/blob/main/Suttonbookexercise.ipynb\" target=\"_parent\"><img src=\"https://colab.research.google.com/assets/colab-badge.svg\" alt=\"Open In Colab\"/></a>"
      ]
    },
    {
      "cell_type": "markdown",
      "metadata": {},
      "source": [
        "Exercise 3.18 \\\\\n",
        "Relationship between $V^\\pi$ and $q^\\pi$:\n",
        "$$\n",
        "V^\\pi(s) = \\sum_{a \\in A} \\pi(a|s)q^\\pi(s,a)\n",
        "$$"
      ]
    },
    {
      "cell_type": "code",
      "execution_count": null,
      "metadata": {
        "colab": {
          "base_uri": "https://localhost:8080/"
        },
        "id": "OkptOwWpip1C",
        "outputId": "2b0f0221-5ebe-450a-c7ae-7f2478982252"
      },
      "outputs": [],
      "source": [
        "## Exercise 3.14\n",
        "\n",
        "import numpy as np\n",
        "\n",
        "neighbors = [(0,1.0,2.3),\n",
        "                   (0,1.0,0.4),\n",
        "                   (0,1.0,-0.4),\n",
        "                   (0,1.0,0.7)] # reward, probability, value(only accurate to one decimal place)\n",
        "policy = np.array([0.25,0.25,0.25,0.25])\n",
        "rewards = np.array([0,0,0,0])\n",
        "middle_value = 0.7\n",
        "gamma = 0.9\n",
        "v_pi_middle = 0\n",
        "state = [0,1]\n",
        "\n",
        "for pa,v in zip(policy,neighbors):\n",
        "       v_pi_middle += pa * v[1] * (v[0] + gamma*v[2])\n",
        "\n",
        "print(v_pi_middle) #should evaluate to near 0.7\n"
      ]
    },
    {
      "cell_type": "code",
      "execution_count": 2,
      "metadata": {},
      "outputs": [
        {
          "name": "stdout",
          "output_type": "stream",
          "text": [
            "Done evaluation~~~\n",
            "{'up': [0.25, 1.0, 0.0], 'down': [0.25, 1.0, 0.0], 'left': [0.25, 1.0, 0.0], 'right': [0.25, 1.0, 0.0]}\n",
            "{'up': [0, 1.0, -11.940381461835317], 'down': [0, 1.0, -15.36281959129394], 'left': [1.0, 1.0, -1.0], 'right': [0, 1.0, -15.992889659793896]}\n",
            "{'up': [0, 1.0, -15.992889659793896], 'down': [0, 1.0, -16.57319674286576], 'left': [1.0, 1.0, -11.940381461835317], 'right': [0, 1.0, -16.223768217008566]}\n",
            "{'up': [0, 1.0, -16.223768217008566], 'down': [0, 1.0, -16.36661094338183], 'left': [0, 1.0, -15.992889659793896], 'right': [1.0, 1.0, -13.087015540296473]}\n",
            "{'up': [1.0, 1.0, -1.0], 'down': [0, 1.0, -16.366610943381833], 'left': [0, 1.0, -16.223768217008566], 'right': [0, 1.0, -15.36281959129394]}\n",
            "{'up': [1.0, 1.0, -11.940381461835317], 'down': [0, 1.0, -16.57319674286576], 'left': [0, 1.0, -13.087015540296473], 'right': [0, 1.0, -16.57319674286576]}\n",
            "{'up': [0, 1.0, -15.992889659793896], 'down': [0.5, 1.0, -15.36281959129394], 'left': [0.5, 1.0, -15.36281959129394], 'right': [0, 1.0, -16.36661094338183]}\n",
            "{'up': [0, 1.0, -16.223768217008566], 'down': [1.0, 1.0, -13.087015540296477], 'left': [0, 1.0, -16.57319674286576], 'right': [0, 1.0, -16.366610943381833]}\n",
            "{'up': [1.0, 1.0, -13.087015540296473], 'down': [0, 1.0, -16.223768217008562], 'left': [0, 1.0, -16.36661094338183], 'right': [0, 1.0, -16.57319674286576]}\n",
            "{'up': [0.5, 1.0, -15.36281959129394], 'down': [0, 1.0, -15.992889659793898], 'left': [0, 1.0, -16.366610943381833], 'right': [0.5, 1.0, -15.36281959129394]}\n",
            "{'up': [0, 1.0, -16.57319674286576], 'down': [1.0, 1.0, -11.940381461835319], 'left': [0, 1.0, -16.57319674286576], 'right': [0, 1.0, -13.087015540296477]}\n",
            "{'up': [0, 1.0, -16.36661094338183], 'down': [1.0, 1.0, -1.0], 'left': [0, 1.0, -15.36281959129394], 'right': [0, 1.0, -16.223768217008562]}\n",
            "{'up': [0, 1.0, -16.366610943381833], 'down': [0, 1.0, -16.223768217008562], 'left': [1.0, 1.0, -13.087015540296477], 'right': [0, 1.0, -15.992889659793898]}\n",
            "{'up': [0, 1.0, -16.57319674286576], 'down': [0, 1.0, -15.992889659793898], 'left': [0, 1.0, -16.223768217008562], 'right': [1.0, 1.0, -11.940381461835319]}\n",
            "{'up': [0, 1.0, -15.36281959129394], 'down': [0, 1.0, -11.940381461835319], 'left': [0, 1.0, -15.992889659793898], 'right': [1.0, 1.0, -1.0]}\n",
            "{'up': [0.25, 1.0, 0.0], 'down': [0.25, 1.0, 0.0], 'left': [0.25, 1.0, 0.0], 'right': [0.25, 1.0, 0.0]}\n"
          ]
        }
      ],
      "source": [
        "## Example 4.1\n",
        "import math\n",
        "from Environments import gridworld_v0 as gw\n",
        "\n",
        "THETA = 0.2 #stop condition\n",
        "GAMMA = 1.0 #non-discounted\n",
        "episodes = 50 # number of episodes\n",
        "\n",
        "env = gw.environment(sidelength=4,episodes=episodes) \n",
        "\n",
        "def policy_eval():\n",
        "    k_terminal = 0\n",
        "    for k in range(episodes):\n",
        "        delta=0\n",
        "        for s in env.states:\n",
        "            v=s.value[k]\n",
        "            for a in env.actions:\n",
        "                next_state_alias, next_state_value, reward = env.step(s,a,k)\n",
        "                s.policy[a][2] = s.policy[a][1] * (reward + GAMMA*(next_state_value)) # calculate q\n",
        "                s.value[k+1] += s.policy[a][0] * s.policy[a][2] # calculate v\n",
        "            delta = max(delta, abs(v-s.value[k+1]))\n",
        "        if delta<THETA: \n",
        "            print(\"Done evaluation~~~\")\n",
        "            k_terminal = k\n",
        "            return k_terminal\n",
        "        k_terminal = k\n",
        "\n",
        "    return k_terminal\n",
        "\n",
        "def policy_imp(k_terminal):\n",
        "    for s in env.states:\n",
        "        a_opt = []\n",
        "        for a in env.actions:\n",
        "            next_state_alias, next_state_value, reward = env.step(s,a,k_terminal) # take one more step won't hurt I guess??\n",
        "            s.policy[a][2] = s.policy[a][1] * (reward + GAMMA*(next_state_value))\n",
        "        # update policy\n",
        "        for a in env.actions:\n",
        "            if s.policy[a][2] == max([i[2] for i in s.policy.values()]):\n",
        "                a_opt.append(a) #find optimal action(s)\n",
        "        for a in env.actions:\n",
        "            if a in a_opt:\n",
        "                s.policy[a][0] = 1/len(a_opt) #equally distribute probabilities among optimal actions\n",
        "            else:\n",
        "                s.policy[a][0] = 0\n",
        "\n",
        "\n",
        "k_terminal = policy_eval()\n",
        "policy_imp(k_terminal)\n",
        "    # k_terminal = policy_eval()\n",
        "    # policy_imp(k_terminal)\n",
        "\n",
        "\n",
        "# while(True):\n",
        "#     policy_eval()\n",
        "#     policy_imp()\n",
        "#     break\n",
        "        \n",
        "for s in env.states:\n",
        "    print(s.policy)\n",
        "\n",
        "#visualize it~~\n",
        "env.render()\n",
        "\n",
        "       \n",
        "\n"
      ]
    }
  ],
  "metadata": {
    "colab": {
      "authorship_tag": "ABX9TyOiRQsR31ww1zeO93G2UFLA",
      "include_colab_link": true,
      "provenance": []
    },
    "kernelspec": {
      "display_name": "Python 3",
      "name": "python3"
    },
    "language_info": {
      "codemirror_mode": {
        "name": "ipython",
        "version": 3
      },
      "file_extension": ".py",
      "mimetype": "text/x-python",
      "name": "python",
      "nbconvert_exporter": "python",
      "pygments_lexer": "ipython3",
      "version": "3.10.8"
    }
  },
  "nbformat": 4,
  "nbformat_minor": 0
}
