{
  "nbformat": 4,
  "nbformat_minor": 0,
  "metadata": {
    "colab": {
      "provenance": [],
      "authorship_tag": "ABX9TyOiRQsR31ww1zeO93G2UFLA",
      "include_colab_link": true
    },
    "kernelspec": {
      "name": "python3",
      "display_name": "Python 3"
    },
    "language_info": {
      "name": "python"
    }
  },
  "cells": [
    {
      "cell_type": "markdown",
      "metadata": {
        "id": "view-in-github",
        "colab_type": "text"
      },
      "source": [
        "<a href=\"https://colab.research.google.com/github/kw908/RL_doorkick/blob/main/Suttonbookexercise.ipynb\" target=\"_parent\"><img src=\"https://colab.research.google.com/assets/colab-badge.svg\" alt=\"Open In Colab\"/></a>"
      ]
    },
    {
      "cell_type": "code",
      "source": [
        "## Exercise 3.14\n",
        "\n",
        "import numpy as np\n",
        "\n",
        "neighbors = [(0,0.25,2.3),\n",
        "                   (0,0.25,0.4),\n",
        "                   (0,0.25,-0.4),\n",
        "                   (0,0.25,0.7)] # reward, probability, value(only accurate to one decimal place)\n",
        "policy = np.array([0.25,0.25,0.25,0.25])\n",
        "rewards = np.array([0,0,0,0])\n",
        "middle_value = 0.7\n",
        "gamma = 0.9\n",
        "v_pi_middle = 0\n",
        "\n",
        "for pa in policy:\n",
        "    for v in neighbors:\n",
        "       v_pi_middle += pa * v[1] * (v[0] + gamma*v[2])\n",
        "\n",
        "print(v_pi_middle) #should evaluate to near 0.7\n"
      ],
      "metadata": {
        "id": "OkptOwWpip1C",
        "colab": {
          "base_uri": "https://localhost:8080/"
        },
        "outputId": "2b0f0221-5ebe-450a-c7ae-7f2478982252"
      },
      "execution_count": 4,
      "outputs": [
        {
          "output_type": "stream",
          "name": "stdout",
          "text": [
            "0.675\n"
          ]
        }
      ]
    }
  ]
}