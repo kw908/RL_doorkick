{
 "cells": [
  {
   "cell_type": "code",
   "execution_count": null,
   "metadata": {},
   "outputs": [],
   "source": [
    "import gymnasium as gym\n",
    "import numpy as np\n",
    "\n",
    "from AC_DNN import *\n",
    "\n",
    "scores = []\n",
    "avg_scores = []\n",
    "\n",
    "if __name__ == '__main__':\n",
    "    env = gym.make('CartPole-v1')\n",
    "\n",
    "    agent = Agent(input_dims=env.observation_space.shape[0], n_actions=env.action_space.n,\n",
    "                  fc1_dims=64, fc2_dims=32, gamma=0.99, lr=0.003)\n",
    "    \n",
    "    n_games = 500\n",
    "    \n",
    "    \"\"\"Training after each episode vs. training within episode, does it matter?\"\"\"\n",
    "\n",
    "    for i in range(n_games):\n",
    "        agent.total_reward = 0 #total rewards\n",
    "        done = False\n",
    "        state = env.reset()[0]\n",
    "\n",
    "        while not done:\n",
    "            action = agent.train(state, state_, reward, done)\n",
    "            \n",
    "            state_, reward, done, info, _= env.step(action)\n",
    "            agent.total_reward += reward\n",
    "            state = state_\n",
    "\n",
    "        scores.append(agent.total_reward)\n",
    "\n",
    "        avg_score = np.mean(scores[-100:])\n",
    "        avg_scores.append(avg_score)\n",
    "\n",
    "        print('episode ', i , 'score %.2f' % agent.total_reward,\n",
    "              'average score %.2f' % avg_score)\n",
    "\n",
    "\n",
    "\n",
    "\n"
   ]
  }
 ],
 "metadata": {
  "language_info": {
   "name": "python"
  }
 },
 "nbformat": 4,
 "nbformat_minor": 2
}
