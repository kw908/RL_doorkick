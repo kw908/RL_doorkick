{
 "cells": [
  {
   "cell_type": "code",
   "execution_count": 6,
   "metadata": {},
   "outputs": [
    {
     "ename": "TypeError",
     "evalue": "Agent.train() missing 1 required positional argument: 'done'",
     "output_type": "error",
     "traceback": [
      "\u001b[1;31m---------------------------------------------------------------------------\u001b[0m",
      "\u001b[1;31mTypeError\u001b[0m                                 Traceback (most recent call last)",
      "Input \u001b[1;32mIn [6]\u001b[0m, in \u001b[0;36m<cell line: 12>\u001b[1;34m()\u001b[0m\n\u001b[0;32m     27\u001b[0m reward \u001b[38;5;241m=\u001b[39m \u001b[38;5;241m0\u001b[39m\n\u001b[0;32m     29\u001b[0m \u001b[38;5;28;01mwhile\u001b[39;00m \u001b[38;5;129;01mnot\u001b[39;00m done:\n\u001b[1;32m---> 30\u001b[0m     action \u001b[38;5;241m=\u001b[39m \u001b[43magent\u001b[49m\u001b[38;5;241;43m.\u001b[39;49m\u001b[43mtrain\u001b[49m\u001b[43m(\u001b[49m\u001b[43mstate\u001b[49m\u001b[43m,\u001b[49m\u001b[43m \u001b[49m\u001b[43mstate_\u001b[49m\u001b[43m,\u001b[49m\u001b[43m \u001b[49m\u001b[43mreward\u001b[49m\u001b[43m,\u001b[49m\u001b[43m \u001b[49m\u001b[43mdone\u001b[49m\u001b[43m)\u001b[49m\n\u001b[0;32m     32\u001b[0m     state_, reward, done, info, _\u001b[38;5;241m=\u001b[39m env\u001b[38;5;241m.\u001b[39mstep(action)\n\u001b[0;32m     33\u001b[0m     agent\u001b[38;5;241m.\u001b[39mtotal_reward \u001b[38;5;241m+\u001b[39m\u001b[38;5;241m=\u001b[39m reward\n",
      "\u001b[1;31mTypeError\u001b[0m: Agent.train() missing 1 required positional argument: 'done'"
     ]
    }
   ],
   "source": [
    "%reload_ext autoreload\n",
    "%autoreload 2\n",
    "\n",
    "import gymnasium as gym\n",
    "import numpy as np\n",
    "\n",
    "from AC_DNN import *\n",
    "\n",
    "scores = []\n",
    "avg_scores = []\n",
    "\n",
    "if __name__ == '__main__':\n",
    "    env = gym.make('CartPole-v1')\n",
    "\n",
    "    agent = Agent(input_dims=env.observation_space.shape[0], n_actions=env.action_space.n,\n",
    "                  fc1_dims=64, fc2_dims=32, gamma=0.99, lr=0.003)\n",
    "    \n",
    "    n_games = 500\n",
    "    \n",
    "    \"\"\"Training after each episode vs. training within episode, does it matter?\"\"\"\n",
    "\n",
    "    for i in range(n_games):\n",
    "        agent.total_reward = 0 #total rewards\n",
    "        done = False\n",
    "        state = env.reset()[0]\n",
    "        state_=state\n",
    "        reward = 0\n",
    "\n",
    "        while not done:\n",
    "            action = agent.train(state, state_, reward, done)\n",
    "            \n",
    "            state_, reward, done, info, _= env.step(action)\n",
    "            agent.total_reward += reward\n",
    "            state = state_\n",
    "\n",
    "        scores.append(agent.total_reward)\n",
    "\n",
    "        avg_score = np.mean(scores[-100:])\n",
    "        avg_scores.append(avg_score)\n",
    "\n",
    "        print('episode ', i , 'score %.2f' % agent.total_reward,\n",
    "              'average score %.2f' % avg_score)\n",
    "\n",
    "\n",
    "\n",
    "\n"
   ]
  }
 ],
 "metadata": {
  "kernelspec": {
   "display_name": "Python 3",
   "language": "python",
   "name": "python3"
  },
  "language_info": {
   "codemirror_mode": {
    "name": "ipython",
    "version": 3
   },
   "file_extension": ".py",
   "mimetype": "text/x-python",
   "name": "python",
   "nbconvert_exporter": "python",
   "pygments_lexer": "ipython3",
   "version": "3.10.8"
  }
 },
 "nbformat": 4,
 "nbformat_minor": 2
}
